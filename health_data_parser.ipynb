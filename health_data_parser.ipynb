{
 "cells": [
  {
   "cell_type": "code",
   "execution_count": 1,
   "metadata": {},
   "outputs": [],
   "source": [
    "#imports for parsing\n",
    "import xml.etree.ElementTree as ET\n",
    "from datetime import datetime\n",
    "root = ET.parse('export.xml').getroot()\n",
    "\n",
    "#imports for plotting\n",
    "from matplotlib import pyplot as plt\n",
    "import gif "
   ]
  },
  {
   "cell_type": "markdown",
   "metadata": {},
   "source": [
    "Parse XML and look for 'Record' xml tags. Step counts are under 'HKQuantityTypeIdentifierStepCount' Record type.\n",
    "\n",
    "Apple reports Apple Watch step count and iPhone step count separately. To prevent double counting, this code looks only for step counts reported by the iPhone."
   ]
  },
  {
   "cell_type": "code",
   "execution_count": 2,
   "metadata": {},
   "outputs": [],
   "source": [
    "date_list=[]\n",
    "steps=[]\n",
    "\n",
    "for type_tag in root.findall('Record'):\n",
    "    record_type = type_tag.get('type')\n",
    "    record_device = type_tag.get('device')\n",
    "    \n",
    "    #if record is step count reported by iPhone:\n",
    "    if (record_type == 'HKQuantityTypeIdentifierStepCount') and ('iPhone' in record_device):\n",
    "        d=type_tag.get('startDate')[0:10] #get date part of the string (without time)\n",
    "        date_list.append(d)\n",
    "        steps.append(int(type_tag.get('value')))"
   ]
  },
  {
   "cell_type": "markdown",
   "metadata": {},
   "source": [
    "Combine multiple step count entries for the same day"
   ]
  },
  {
   "cell_type": "code",
   "execution_count": 3,
   "metadata": {},
   "outputs": [],
   "source": [
    "unique_dates=sorted(set(date_list))\n",
    "\n",
    "steps_by_day = {i:0 for i in unique_dates}\n",
    "for idx,step in enumerate(steps):\n",
    "    steps_by_day[date_list[idx]]+=step"
   ]
  },
  {
   "cell_type": "markdown",
   "metadata": {},
   "source": [
    "Implement a 2 week moving average to smoothen out sharp increase/decrease"
   ]
  },
  {
   "cell_type": "code",
   "execution_count": 4,
   "metadata": {},
   "outputs": [],
   "source": [
    "key_list = list(steps_by_day.keys())\n",
    "value_list = list(steps_by_day.values())\n",
    "\n",
    "window_size = 14 #14 day moving average\n",
    "i = 0\n",
    "moving_average = []\n",
    "\n",
    "while i < len(value_list) - window_size + 1:\n",
    "    this_window = value_list[i:i+window_size]\n",
    "    window_average = sum(this_window)/window_size\n",
    "    moving_average.append(window_average)\n",
    "    i+=1\n",
    "    \n",
    "for i in range(window_size-1):\n",
    "    moving_average.append(value_list[i-window_size+1])\n",
    "\n",
    "steps = moving_average"
   ]
  },
  {
   "cell_type": "markdown",
   "metadata": {},
   "source": [
    "Define annotations to be added on plot"
   ]
  },
  {
   "cell_type": "code",
   "execution_count": 5,
   "metadata": {},
   "outputs": [],
   "source": [
    "notable_dates = ['2016-12-26','2017-08-17','2017-04-09', '2017-09-01', '2018-01-18', '2018-05-15', '2018-09-15', \n",
    "                 '2018-12-15', '2019-02-01', '2019-05-01','2019-08-18', '2019-10-01', '2020-02-28']\n",
    "#convert string dates to indices\n",
    "notable_dates = [key_list.index(i) for i in notable_dates]\n",
    "\n",
    "#event description for corresponding notable_dates\n",
    "events = [\"Winter '16 Co-op\", \"Flew home\", \"Summer '17 (2B)\", \"Fall '17 Co-op\", \"Winter '18 (3A)\", \"Summer '18 Co-op\", \"Fall '18 (3B)\",\n",
    "         \"Flew home\",\"Winter '19 Co-op\", \"Summer '19 (4A)\", \"Flew home\", \"Fall '19 Co-op (BC)\", \"Quarantine begins\"]\n",
    "\n",
    "#y position of tag\n",
    "y_pos = [8500, 1450, 13000, 11500, 9000, 12500, 13500, \n",
    "         3000, 8000, 13500, 1450, 12700, 11000]"
   ]
  },
  {
   "cell_type": "markdown",
   "metadata": {},
   "source": [
    "Plot and save as gif"
   ]
  },
  {
   "cell_type": "code",
   "execution_count": 6,
   "metadata": {},
   "outputs": [],
   "source": [
    "FONT = {'fontsize': 16, 'ha':'center'}\n",
    "bg = '#fcfeff'\n",
    "plt.rcParams[\"axes.facecolor\"] = bg\n",
    "plt.rcParams[\"figure.facecolor\"] = bg\n",
    "plt.rcParams[\"savefig.facecolor\"] = bg\n",
    "\n",
    "num = len(key_list)\n",
    "\n",
    "@gif.frame\n",
    "\n",
    "def plot(date):\n",
    "    fig, ax = plt.subplots(figsize=(10, 6))\n",
    "    plt.plot(list((range(date))), steps[:date],color='#000000')\n",
    "    \n",
    "    #set axis limits\n",
    "    ax.set_xlim([0, num])\n",
    "    ax.set_ylim([0, max(steps)])\n",
    "    \n",
    "    #axis ticks\n",
    "    ax.set_xticks([date])\n",
    "    ax.set_yticks([0, 1000, 5000, 10000, 15000])\n",
    "    \n",
    "    #tick labels\n",
    "    ax.set_xticklabels([(datetime.strptime(date_list[date], '%Y-%m-%d')).strftime(\"%b '%y\")], **FONT)\n",
    "    \n",
    "    plt.title('Number of Steps Per Day', **FONT)\n",
    "\n",
    "    #add annotations\n",
    "    style = dict(size=10, color='red', ha='center')\n",
    "    for idx, d in enumerate(notable_dates):\n",
    "        if d < date:\n",
    "            ax.text(d, y_pos[idx], events[idx], **style)\n",
    "\n",
    "frames = []\n",
    "\n",
    "for date in range(num):\n",
    "    frame = plot(date)\n",
    "    frames.append(frame)\n",
    "\n",
    "#duplicate last frame to add some \"pause\" time\n",
    "for i in range(400):\n",
    "    frames.append(frames[-1]) \n",
    "    \n",
    "gif.save(frames, 'dailySteps.gif', duration=25)"
   ]
  }
 ],
 "metadata": {
  "kernelspec": {
   "display_name": "Python 3",
   "language": "python",
   "name": "python3"
  },
  "language_info": {
   "codemirror_mode": {
    "name": "ipython",
    "version": 3
   },
   "file_extension": ".py",
   "mimetype": "text/x-python",
   "name": "python",
   "nbconvert_exporter": "python",
   "pygments_lexer": "ipython3",
   "version": "3.7.6"
  }
 },
 "nbformat": 4,
 "nbformat_minor": 4
}
